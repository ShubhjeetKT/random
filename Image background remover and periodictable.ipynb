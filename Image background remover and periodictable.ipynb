 {
 "cells": [
  {
   "cell_type": "code",
   "execution_count": 3,
   "id": "d7c48ad7",
   "metadata": {},
   "outputs": [],
   "source": [
    "import periodictable"
   ]
  },
  {
   "cell_type": "code",
   "execution_count": 2,
   "id": "af2bf307",
   "metadata": {},
   "outputs": [
    {
     "name": "stdout",
     "output_type": "stream",
     "text": [
      "Collecting periodictable\n",
      "  Downloading periodictable-1.6.1-py2.py3-none-any.whl (752 kB)\n",
      "     -------------------------------------- 752.5/752.5 kB 2.4 MB/s eta 0:00:00\n",
      "Requirement already satisfied: pyparsing in c:\\users\\shubh\\appdata\\local\\programs\\python\\python310\\lib\\site-packages (from periodictable) (3.0.9)\n",
      "Requirement already satisfied: numpy in c:\\users\\shubh\\appdata\\local\\programs\\python\\python310\\lib\\site-packages (from periodictable) (1.23.5)\n",
      "Installing collected packages: periodictable\n",
      "Successfully installed periodictable-1.6.1\n",
      "\n",
      "[notice] A new release of pip available: 22.1.2 -> 23.2.1\n",
      "[notice] To update, run: python.exe -m pip install --upgrade pip\n",
      "Note: you may need to restart the kernel to use updated packages.\n"
     ]
    }
   ],
   "source": [
    "pip install periodictable\n"
   ]
  },
  {
   "cell_type": "code",
   "execution_count": 5,
   "id": "6bfddca6",
   "metadata": {},
   "outputs": [
    {
     "name": "stdout",
     "output_type": "stream",
     "text": [
      "11\n"
     ]
    },
    {
     "data": {
      "text/plain": [
       "Na"
      ]
     },
     "execution_count": 5,
     "metadata": {},
     "output_type": "execute_result"
    }
   ],
   "source": [
    "Atomic_no = int(input())\n",
    "periodictable.elements[Atomic_no]\n",
    "for i in "
   ]
  },
  {
   "cell_type": "code",
   "execution_count": 12,
   "id": "645650ef",
   "metadata": {},
   "outputs": [],
   "source": [
    "import pyfiglet"
   ]
  },
  {
   "cell_type": "code",
   "execution_count": 10,
   "id": "bd99ee53",
   "metadata": {},
   "outputs": [],
   "source": [
    "import random"
   ]
  },
  {
   "cell_type": "code",
   "execution_count": 47,
   "id": "607da576",
   "metadata": {},
   "outputs": [],
   "source": [
    "def generate_logo_ko(font):\n",
    "    logo_k = pyfiglet.figlet_format(\"SHUBHJEET\",font = font)\n",
    "    return f\"{logo_k}\""
   ]
  },
  {
   "cell_type": "code",
   "execution_count": 48,
   "id": "a507ddb6",
   "metadata": {},
   "outputs": [],
   "source": [
    "def generate_random_font():\n",
    "    figlet_instance = pyfiglet.Figlet()\n",
    "    fonts = figlet_instance.getFonts()\n",
    "    return random.choice(fonts)"
   ]
  },
  {
   "cell_type": "code",
   "execution_count": 78,
   "id": "697aeaff",
   "metadata": {},
   "outputs": [
    {
     "name": "stdout",
     "output_type": "stream",
     "text": [
      "   ###  ## ###  ## ## ######  ## ###    ### ###### ###### ######  \n",
      "  ## ## ##  ## ##  ##  ## ##  ##  ##     ##  ##     ##    # ##    \n",
      "  #     ## ### ##  ##  ####   ## ###     ##  ##     ##      ##    \n",
      "  ####  ###### ##  ##  ## ##  ######     ##  ####   ####    ##    \n",
      "     ## ##  ##  ## ##  ##  ## ##  ##     ##  ##     ##      ##    \n",
      " ##  ## ##  ##   ####  ##  ## ##  ## ## ##   ##     ##      ##    \n",
      "  ####  ## ###    ### ######  ## ###  ###   ###### ######  ###    \n",
      "                                                                  \n",
      "\n"
     ]
    }
   ],
   "source": [
    "if __name__ == \"__main__\":\n",
    "    random_font = generate_random_font()\n",
    "    logo = generate_logo_ko(random_font)\n",
    "    print(logo)"
   ]
  },
  {
   "cell_type": "code",
   "execution_count": 76,
   "id": "f6051f55",
   "metadata": {},
   "outputs": [
    {
     "name": "stdout",
     "output_type": "stream",
     "text": [
      "found word:cat\n"
     ]
    }
   ],
   "source": [
    "import re\n",
    "\n",
    "str = 'an example word:cat!!'\n",
    "match = re.search(r'word:\\w\\w\\w', str)\n",
    "# If-statement after search() tests if it succeeded\n",
    "if match:\n",
    "  print('found', match.group()) ## 'found word:cat'\n",
    "else:\n",
    "  print('did not find')"
   ]
  },
  {
   "cell_type": "code",
   "execution_count": 77,
   "id": "9c96c66e",
   "metadata": {},
   "outputs": [],
   "source": [
    "from rembg import remove"
   ]
  },
  {
   "cell_type": "code",
   "execution_count": 79,
   "id": "9b8dfb12",
   "metadata": {},
   "outputs": [],
   "source": [
    "from PIL import Image"
   ]
  },
  {
   "cell_type": "code",
   "execution_count": 88,
   "id": "0d00dea4",
   "metadata": {},
   "outputs": [],
   "source": [
    "input_path = \"w4.jpeg\"\n",
    "output_path = \"win24.png\""
   ]
  },
  {
   "cell_type": "code",
   "execution_count": 89,
   "id": "2e891dd1",
   "metadata": {},
   "outputs": [],
   "source": [
    "inp = Image.open(input_path)\n",
    "output = remove(inp)\n",
    "output.save(output_path)"
   ]
  },
  {
   "cell_type": "code",
   "execution_count": null,
   "id": "13ac6dd1",
   "metadata": {},
   "outputs": [],
   "source": []
  }
 ],
 "metadata": {
  "kernelspec": {
   "display_name": "Python 3 (ipykernel)",
   "language": "python",
   "name": "python3"
  },
  "language_info": {
   "codemirror_mode": {
    "name": "ipython",
    "version": 3
   },
   "file_extension": ".py",
   "mimetype": "text/x-python",
   "name": "python",
   "nbconvert_exporter": "python",
   "pygments_lexer": "ipython3",
   "version": "3.10.5"
  }
 },
 "nbformat": 4,
 "nbformat_minor": 5
}
