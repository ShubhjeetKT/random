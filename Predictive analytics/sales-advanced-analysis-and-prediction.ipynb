{
 "cells": [
  {
   "cell_type": "code",
   "execution_count": null,
   "id": "7c6aa818",
   "metadata": {
    "_cell_guid": "b1076dfc-b9ad-4769-8c92-a6c4dae69d19",
    "_uuid": "8f2839f25d086af736a60e9eeb907d3b93b6e0e5",
    "execution": {
     "iopub.execute_input": "2022-07-24T06:57:10.495341Z",
     "iopub.status.busy": "2022-07-24T06:57:10.494150Z",
     "iopub.status.idle": "2022-07-24T06:57:10.519421Z",
     "shell.execute_reply": "2022-07-24T06:57:10.518359Z"
    },
    "papermill": {
     "duration": 0.047374,
     "end_time": "2022-07-24T06:57:10.522919",
     "exception": false,
     "start_time": "2022-07-24T06:57:10.475545",
     "status": "completed"
    },
    "tags": []
   },
   "outputs": [],
   "source": [
    "# This Python 3 environment comes with many helpful analytics libraries installed\n",
    "# It is defined by the kaggle/python Docker image: https://github.com/kaggle/docker-python\n",
    "# For example, here's several helpful packages to load\n",
    "\n",
    "import numpy as np # linear algebra\n",
    "import pandas as pd # data processing, CSV file I/O (e.g. pd.read_csv)\n",
    "\n",
    "# Input data files are available in the read-only \"../input/\" directory\n",
    "# For example, running this (by clicking run or pressing Shift+Enter) will list all files under the input directory\n",
    "\n",
    "import os\n",
    "for dirname, _, filenames in os.walk('/kaggle/input'):\n",
    "    for filename in filenames:\n",
    "        print(os.path.join(dirname, filename))\n",
    "\n",
    "# You can write up to 20GB to the current directory (/kaggle/working/) that gets preserved as output when you create a version using \"Save & Run All\" \n",
    "# You can also write temporary files to /kaggle/temp/, but they won't be saved outside of the current session"
   ]
  },
  {
   "cell_type": "code",
   "execution_count": null,
   "id": "d2ba210f",
   "metadata": {
    "execution": {
     "iopub.execute_input": "2022-07-24T06:57:10.558039Z",
     "iopub.status.busy": "2022-07-24T06:57:10.557070Z",
     "iopub.status.idle": "2022-07-24T06:57:11.109346Z",
     "shell.execute_reply": "2022-07-24T06:57:11.107283Z"
    },
    "papermill": {
     "duration": 0.573567,
     "end_time": "2022-07-24T06:57:11.112456",
     "exception": false,
     "start_time": "2022-07-24T06:57:10.538889",
     "status": "completed"
    },
    "tags": []
   },
   "outputs": [],
   "source": [
    "# Input data files are available in the \"../input/\" directory.\n",
    "# First let us load the datasets into different Dataframes\n",
    "def load_data(datapath):\n",
    "    data = pd.read_csv(datapath)\n",
    "   # Dimensions\n",
    "    print('Shape:', data.shape)\n",
    "    # Set of features we have are: date, store, and item\n",
    "    display(data.sample(10))\n",
    "    return data\n",
    "traindf=load_data('../input/walmart-sales-forecast/train.csv')\n",
    "testdf=load_data('../input/walmart-sales-forecast/test.csv')\n",
    "featuresdf=load_data('../input/walmart-sales-forecast/features.csv')\n",
    "storesdf=load_data('../input/walmart-sales-forecast/stores.csv')"
   ]
  },
  {
   "cell_type": "markdown",
   "id": "f4560f6e",
   "metadata": {
    "papermill": {
     "duration": 0.017644,
     "end_time": "2022-07-24T06:57:11.147209",
     "exception": false,
     "start_time": "2022-07-24T06:57:11.129565",
     "status": "completed"
    },
    "tags": []
   },
   "source": [
    "# DATA PREPARATION & ANALYSIS"
   ]
  },
  {
   "cell_type": "markdown",
   "id": "e7adbd70",
   "metadata": {
    "papermill": {
     "duration": 0.016367,
     "end_time": "2022-07-24T06:57:11.180108",
     "exception": false,
     "start_time": "2022-07-24T06:57:11.163741",
     "status": "completed"
    },
    "tags": []
   },
   "source": [
    " *Merging the features and training data to get cumulative insights from overall*"
   ]
  },
  {
   "cell_type": "code",
   "execution_count": null,
   "id": "78707972",
   "metadata": {
    "execution": {
     "iopub.execute_input": "2022-07-24T06:57:11.214854Z",
     "iopub.status.busy": "2022-07-24T06:57:11.214428Z",
     "iopub.status.idle": "2022-07-24T06:57:11.609777Z",
     "shell.execute_reply": "2022-07-24T06:57:11.608626Z"
    },
    "papermill": {
     "duration": 0.416043,
     "end_time": "2022-07-24T06:57:11.612689",
     "exception": false,
     "start_time": "2022-07-24T06:57:11.196646",
     "status": "completed"
    },
    "tags": []
   },
   "outputs": [],
   "source": [
    "traindf1=traindf.merge(featuresdf,how='left',indicator=True).merge(storesdf,how='left')"
   ]
  },
  {
   "cell_type": "code",
   "execution_count": null,
   "id": "529469f1",
   "metadata": {
    "execution": {
     "iopub.execute_input": "2022-07-24T06:57:11.649551Z",
     "iopub.status.busy": "2022-07-24T06:57:11.649093Z",
     "iopub.status.idle": "2022-07-24T06:57:11.685510Z",
     "shell.execute_reply": "2022-07-24T06:57:11.684280Z"
    },
    "papermill": {
     "duration": 0.058414,
     "end_time": "2022-07-24T06:57:11.687982",
     "exception": false,
     "start_time": "2022-07-24T06:57:11.629568",
     "status": "completed"
    },
    "tags": []
   },
   "outputs": [],
   "source": [
    "traindf1"
   ]
  },
  {
   "cell_type": "markdown",
   "id": "65aa3d5d",
   "metadata": {
    "papermill": {
     "duration": 0.016813,
     "end_time": "2022-07-24T06:57:11.721961",
     "exception": false,
     "start_time": "2022-07-24T06:57:11.705148",
     "status": "completed"
    },
    "tags": []
   },
   "source": [
    "*Markdown values are typically a promotional factors and it contains 58% null values,So here Im avoiding it to perform neat analysis.*"
   ]
  },
  {
   "cell_type": "code",
   "execution_count": null,
   "id": "a0c665e6",
   "metadata": {
    "execution": {
     "iopub.execute_input": "2022-07-24T06:57:11.759376Z",
     "iopub.status.busy": "2022-07-24T06:57:11.758944Z",
     "iopub.status.idle": "2022-07-24T06:57:11.820624Z",
     "shell.execute_reply": "2022-07-24T06:57:11.819279Z"
    },
    "papermill": {
     "duration": 0.084107,
     "end_time": "2022-07-24T06:57:11.823328",
     "exception": false,
     "start_time": "2022-07-24T06:57:11.739221",
     "status": "completed"
    },
    "tags": []
   },
   "outputs": [],
   "source": [
    "traindf2=traindf1.drop(['MarkDown1','MarkDown2','MarkDown3','MarkDown4','MarkDown5'],axis=1)"
   ]
  },
  {
   "cell_type": "code",
   "execution_count": null,
   "id": "6e767646",
   "metadata": {
    "execution": {
     "iopub.execute_input": "2022-07-24T06:57:11.860477Z",
     "iopub.status.busy": "2022-07-24T06:57:11.860046Z",
     "iopub.status.idle": "2022-07-24T06:57:11.969234Z",
     "shell.execute_reply": "2022-07-24T06:57:11.967965Z"
    },
    "papermill": {
     "duration": 0.130447,
     "end_time": "2022-07-24T06:57:11.971720",
     "exception": false,
     "start_time": "2022-07-24T06:57:11.841273",
     "status": "completed"
    },
    "tags": []
   },
   "outputs": [],
   "source": [
    "traindf2.isna().sum()"
   ]
  },
  {
   "cell_type": "markdown",
   "id": "fdcd58fa",
   "metadata": {
    "papermill": {
     "duration": 0.018041,
     "end_time": "2022-07-24T06:57:12.007164",
     "exception": false,
     "start_time": "2022-07-24T06:57:11.989123",
     "status": "completed"
    },
    "tags": []
   },
   "source": [
    "*Let's check any outliers on sales values*"
   ]
  },
  {
   "cell_type": "code",
   "execution_count": null,
   "id": "a5bd840f",
   "metadata": {
    "execution": {
     "iopub.execute_input": "2022-07-24T06:57:12.046617Z",
     "iopub.status.busy": "2022-07-24T06:57:12.045580Z",
     "iopub.status.idle": "2022-07-24T06:57:12.074917Z",
     "shell.execute_reply": "2022-07-24T06:57:12.073610Z"
    },
    "papermill": {
     "duration": 0.051973,
     "end_time": "2022-07-24T06:57:12.077607",
     "exception": false,
     "start_time": "2022-07-24T06:57:12.025634",
     "status": "completed"
    },
    "tags": []
   },
   "outputs": [],
   "source": [
    "traindf2.loc[traindf2['Weekly_Sales']<=0] #outliers"
   ]
  },
  {
   "cell_type": "code",
   "execution_count": null,
   "id": "804897db",
   "metadata": {
    "execution": {
     "iopub.execute_input": "2022-07-24T06:57:12.115144Z",
     "iopub.status.busy": "2022-07-24T06:57:12.114761Z",
     "iopub.status.idle": "2022-07-24T06:57:12.164291Z",
     "shell.execute_reply": "2022-07-24T06:57:12.162963Z"
    },
    "papermill": {
     "duration": 0.071249,
     "end_time": "2022-07-24T06:57:12.167018",
     "exception": false,
     "start_time": "2022-07-24T06:57:12.095769",
     "status": "completed"
    },
    "tags": []
   },
   "outputs": [],
   "source": [
    "\n",
    "traindf3=traindf2.loc[traindf2['Weekly_Sales']>0]\n",
    "traindf4=traindf3.drop(['_merge'],axis=1)"
   ]
  },
  {
   "cell_type": "code",
   "execution_count": null,
   "id": "a5711773",
   "metadata": {
    "execution": {
     "iopub.execute_input": "2022-07-24T06:57:12.204871Z",
     "iopub.status.busy": "2022-07-24T06:57:12.204021Z",
     "iopub.status.idle": "2022-07-24T06:57:12.979117Z",
     "shell.execute_reply": "2022-07-24T06:57:12.977808Z"
    },
    "papermill": {
     "duration": 0.796972,
     "end_time": "2022-07-24T06:57:12.981940",
     "exception": false,
     "start_time": "2022-07-24T06:57:12.184968",
     "status": "completed"
    },
    "tags": []
   },
   "outputs": [],
   "source": [
    "traindf4.sort_values(by='Date')"
   ]
  },
  {
   "cell_type": "code",
   "execution_count": null,
   "id": "3dafd5a8",
   "metadata": {
    "execution": {
     "iopub.execute_input": "2022-07-24T06:57:13.020967Z",
     "iopub.status.busy": "2022-07-24T06:57:13.020586Z",
     "iopub.status.idle": "2022-07-24T06:57:13.056937Z",
     "shell.execute_reply": "2022-07-24T06:57:13.055607Z"
    },
    "papermill": {
     "duration": 0.058958,
     "end_time": "2022-07-24T06:57:13.059636",
     "exception": false,
     "start_time": "2022-07-24T06:57:13.000678",
     "status": "completed"
    },
    "tags": []
   },
   "outputs": [],
   "source": [
    "traindf4['Type'].unique() #Store varities"
   ]
  },
  {
   "cell_type": "code",
   "execution_count": null,
   "id": "94c6956a",
   "metadata": {
    "execution": {
     "iopub.execute_input": "2022-07-24T06:57:13.098797Z",
     "iopub.status.busy": "2022-07-24T06:57:13.098398Z",
     "iopub.status.idle": "2022-07-24T06:57:13.297340Z",
     "shell.execute_reply": "2022-07-24T06:57:13.296003Z"
    },
    "papermill": {
     "duration": 0.221444,
     "end_time": "2022-07-24T06:57:13.300031",
     "exception": false,
     "start_time": "2022-07-24T06:57:13.078587",
     "status": "completed"
    },
    "tags": []
   },
   "outputs": [],
   "source": [
    "# Import libraries\n",
    "import matplotlib.pyplot as plt\n",
    "import numpy as np\n",
    "\n",
    "\n",
    "# Creating dataset\n",
    "stores = ['Type A','Type B','Type C']\n",
    "\n",
    "data = traindf4['Type'].value_counts()\n",
    "\n",
    "# Creating plot\n",
    "fig, ax = plt.subplots()\n",
    "plt.pie(data, labels = stores,autopct='%.0f%%')\n",
    "ax.set_title('Which Type of stores has more sales')\n",
    "# show plot\n",
    "plt.show()\n"
   ]
  },
  {
   "cell_type": "code",
   "execution_count": null,
   "id": "2935c46a",
   "metadata": {
    "execution": {
     "iopub.execute_input": "2022-07-24T06:57:13.339621Z",
     "iopub.status.busy": "2022-07-24T06:57:13.338697Z",
     "iopub.status.idle": "2022-07-24T06:57:13.520106Z",
     "shell.execute_reply": "2022-07-24T06:57:13.519124Z"
    },
    "papermill": {
     "duration": 0.203979,
     "end_time": "2022-07-24T06:57:13.522600",
     "exception": false,
     "start_time": "2022-07-24T06:57:13.318621",
     "status": "completed"
    },
    "tags": []
   },
   "outputs": [],
   "source": [
    "traindf4['year'] = pd.DatetimeIndex(traindf4['Date']).year #Separating year data."
   ]
  },
  {
   "cell_type": "code",
   "execution_count": null,
   "id": "71076f0c",
   "metadata": {
    "execution": {
     "iopub.execute_input": "2022-07-24T06:57:13.561987Z",
     "iopub.status.busy": "2022-07-24T06:57:13.561131Z",
     "iopub.status.idle": "2022-07-24T06:57:15.840445Z",
     "shell.execute_reply": "2022-07-24T06:57:15.839281Z"
    },
    "papermill": {
     "duration": 2.30253,
     "end_time": "2022-07-24T06:57:15.843614",
     "exception": false,
     "start_time": "2022-07-24T06:57:13.541084",
     "status": "completed"
    },
    "tags": []
   },
   "outputs": [],
   "source": [
    "# import modules\n",
    "import matplotlib.pyplot as mp\n",
    "import pandas as pd\n",
    "import seaborn as sns\n",
    "\n",
    "# import file with data\n",
    "data = traindf4\n",
    "\n",
    "# prints data that will be plotted\n",
    "# columns shown here are selected by corr() since\n",
    "# they are ideal for the plot\n",
    "print(data.corr())\n",
    "sns.set_theme(style=\"whitegrid\")\n",
    "# plotting correlation heatmap\n",
    "dataplot = sns.heatmap(data.corr(), cmap=\"YlGnBu\", annot=True)\n",
    "sns.set(rc = {'figure.figsize':(25,8)})\n",
    "\n",
    "# displaying heatmap\n",
    "mp.show()\n"
   ]
  },
  {
   "cell_type": "code",
   "execution_count": null,
   "id": "f59dff9e",
   "metadata": {
    "execution": {
     "iopub.execute_input": "2022-07-24T06:57:15.888110Z",
     "iopub.status.busy": "2022-07-24T06:57:15.887028Z",
     "iopub.status.idle": "2022-07-24T06:57:15.894564Z",
     "shell.execute_reply": "2022-07-24T06:57:15.892918Z"
    },
    "papermill": {
     "duration": 0.032677,
     "end_time": "2022-07-24T06:57:15.896998",
     "exception": false,
     "start_time": "2022-07-24T06:57:15.864321",
     "status": "completed"
    },
    "tags": []
   },
   "outputs": [],
   "source": [
    "print(traindf4.dtypes)"
   ]
  },
  {
   "cell_type": "markdown",
   "id": "75f46183",
   "metadata": {
    "papermill": {
     "duration": 0.020175,
     "end_time": "2022-07-24T06:57:15.937155",
     "exception": false,
     "start_time": "2022-07-24T06:57:15.916980",
     "status": "completed"
    },
    "tags": []
   },
   "source": [
    "**Year vs Fuel_price**"
   ]
  },
  {
   "cell_type": "code",
   "execution_count": null,
   "id": "bf4a3b47",
   "metadata": {
    "execution": {
     "iopub.execute_input": "2022-07-24T06:57:15.979419Z",
     "iopub.status.busy": "2022-07-24T06:57:15.978713Z",
     "iopub.status.idle": "2022-07-24T06:57:21.500246Z",
     "shell.execute_reply": "2022-07-24T06:57:21.499384Z"
    },
    "papermill": {
     "duration": 5.545322,
     "end_time": "2022-07-24T06:57:21.502378",
     "exception": false,
     "start_time": "2022-07-24T06:57:15.957056",
     "status": "completed"
    },
    "tags": []
   },
   "outputs": [],
   "source": [
    "import seaborn as sns\n",
    "sns.set_theme(style=\"whitegrid\")\n",
    "tips =traindf4\n",
    "ax = sns.barplot(x=\"year\", y=\"Fuel_Price\", data=tips)\n",
    "sns.set(rc = {'figure.figsize':(10,4)})\n"
   ]
  },
  {
   "cell_type": "markdown",
   "id": "e5474349",
   "metadata": {
    "papermill": {
     "duration": 0.021542,
     "end_time": "2022-07-24T06:57:21.544341",
     "exception": false,
     "start_time": "2022-07-24T06:57:21.522799",
     "status": "completed"
    },
    "tags": []
   },
   "source": [
    "**Weekly sales vs Store**"
   ]
  },
  {
   "cell_type": "code",
   "execution_count": null,
   "id": "7299fad8",
   "metadata": {
    "execution": {
     "iopub.execute_input": "2022-07-24T06:57:21.588169Z",
     "iopub.status.busy": "2022-07-24T06:57:21.587249Z",
     "iopub.status.idle": "2022-07-24T06:57:27.817873Z",
     "shell.execute_reply": "2022-07-24T06:57:27.816739Z"
    },
    "papermill": {
     "duration": 6.255555,
     "end_time": "2022-07-24T06:57:27.820426",
     "exception": false,
     "start_time": "2022-07-24T06:57:21.564871",
     "status": "completed"
    },
    "tags": []
   },
   "outputs": [],
   "source": [
    "import seaborn as sns\n",
    "sns.set_theme(style=\"whitegrid\")\n",
    "tips = traindf4\n",
    "ax = sns.barplot(x='Store', y=\"Weekly_Sales\", data=tips)"
   ]
  },
  {
   "cell_type": "markdown",
   "id": "956ed8f7",
   "metadata": {
    "papermill": {
     "duration": 0.020821,
     "end_time": "2022-07-24T06:57:27.861899",
     "exception": false,
     "start_time": "2022-07-24T06:57:27.841078",
     "status": "completed"
    },
    "tags": []
   },
   "source": [
    "**Store vs Unemployment**"
   ]
  },
  {
   "cell_type": "code",
   "execution_count": null,
   "id": "3b72825a",
   "metadata": {
    "execution": {
     "iopub.execute_input": "2022-07-24T06:57:27.905562Z",
     "iopub.status.busy": "2022-07-24T06:57:27.904951Z",
     "iopub.status.idle": "2022-07-24T06:57:33.813399Z",
     "shell.execute_reply": "2022-07-24T06:57:33.812019Z"
    },
    "papermill": {
     "duration": 5.933459,
     "end_time": "2022-07-24T06:57:33.816204",
     "exception": false,
     "start_time": "2022-07-24T06:57:27.882745",
     "status": "completed"
    },
    "tags": []
   },
   "outputs": [],
   "source": [
    "# importing packages\n",
    "import seaborn as sns\n",
    "import matplotlib.pyplot as plt\n",
    "\n",
    "# loading dataset\n",
    "data = traindf4\n",
    "\n",
    "# draw lineplot\n",
    "sns.lineplot(x=\"Store\", y=\"Unemployment\", data=data)\n",
    "plt.show()\n"
   ]
  },
  {
   "cell_type": "code",
   "execution_count": null,
   "id": "3cc1e493",
   "metadata": {
    "execution": {
     "iopub.execute_input": "2022-07-24T06:57:33.863130Z",
     "iopub.status.busy": "2022-07-24T06:57:33.862430Z",
     "iopub.status.idle": "2022-07-24T06:57:33.885681Z",
     "shell.execute_reply": "2022-07-24T06:57:33.884874Z"
    },
    "papermill": {
     "duration": 0.050018,
     "end_time": "2022-07-24T06:57:33.887951",
     "exception": false,
     "start_time": "2022-07-24T06:57:33.837933",
     "status": "completed"
    },
    "tags": []
   },
   "outputs": [],
   "source": [
    "traindf4"
   ]
  },
  {
   "cell_type": "code",
   "execution_count": null,
   "id": "e9ebd840",
   "metadata": {
    "execution": {
     "iopub.execute_input": "2022-07-24T06:57:33.934428Z",
     "iopub.status.busy": "2022-07-24T06:57:33.933654Z",
     "iopub.status.idle": "2022-07-24T06:57:33.944148Z",
     "shell.execute_reply": "2022-07-24T06:57:33.943071Z"
    },
    "papermill": {
     "duration": 0.036082,
     "end_time": "2022-07-24T06:57:33.946609",
     "exception": false,
     "start_time": "2022-07-24T06:57:33.910527",
     "status": "completed"
    },
    "tags": []
   },
   "outputs": [],
   "source": [
    "traindf4['Dept'].unique()"
   ]
  },
  {
   "cell_type": "code",
   "execution_count": null,
   "id": "e9d92c7c",
   "metadata": {
    "execution": {
     "iopub.execute_input": "2022-07-24T06:57:33.992682Z",
     "iopub.status.busy": "2022-07-24T06:57:33.992246Z",
     "iopub.status.idle": "2022-07-24T06:57:42.474431Z",
     "shell.execute_reply": "2022-07-24T06:57:42.473194Z"
    },
    "papermill": {
     "duration": 8.508459,
     "end_time": "2022-07-24T06:57:42.476826",
     "exception": false,
     "start_time": "2022-07-24T06:57:33.968367",
     "status": "completed"
    },
    "tags": []
   },
   "outputs": [],
   "source": [
    "# importing required packages\n",
    "import seaborn as sns\n",
    "import matplotlib.pyplot as plt\n",
    "\n",
    "# loading dataset\n",
    "data =traindf4\n",
    "\n",
    "# draw pointplot\n",
    "sns.pointplot(x ='Dept',\n",
    "\t\t\ty = \"Weekly_Sales\",\n",
    "\t\t\tdata = data)\n",
    "# show the plot\n",
    "sns.set(rc = {'figure.figsize':(25,8)})\n",
    "plt.show()\n"
   ]
  },
  {
   "cell_type": "code",
   "execution_count": null,
   "id": "750fbe62",
   "metadata": {
    "execution": {
     "iopub.execute_input": "2022-07-24T06:57:42.525889Z",
     "iopub.status.busy": "2022-07-24T06:57:42.524761Z",
     "iopub.status.idle": "2022-07-24T06:57:42.705040Z",
     "shell.execute_reply": "2022-07-24T06:57:42.703979Z"
    },
    "papermill": {
     "duration": 0.207794,
     "end_time": "2022-07-24T06:57:42.707818",
     "exception": false,
     "start_time": "2022-07-24T06:57:42.500024",
     "status": "completed"
    },
    "tags": []
   },
   "outputs": [],
   "source": [
    "traindf4['month'] = pd.DatetimeIndex(traindf4['Date']).month #extract month data"
   ]
  },
  {
   "cell_type": "code",
   "execution_count": null,
   "id": "7ca05774",
   "metadata": {
    "execution": {
     "iopub.execute_input": "2022-07-24T06:57:42.761701Z",
     "iopub.status.busy": "2022-07-24T06:57:42.760708Z",
     "iopub.status.idle": "2022-07-24T06:57:43.056822Z",
     "shell.execute_reply": "2022-07-24T06:57:43.055463Z"
    },
    "papermill": {
     "duration": 0.325072,
     "end_time": "2022-07-24T06:57:43.059251",
     "exception": false,
     "start_time": "2022-07-24T06:57:42.734179",
     "status": "completed"
    },
    "tags": []
   },
   "outputs": [],
   "source": [
    "traindf4['week'] = pd.DatetimeIndex(traindf4['Date']).week #extract week data"
   ]
  },
  {
   "cell_type": "code",
   "execution_count": null,
   "id": "460e1163",
   "metadata": {
    "execution": {
     "iopub.execute_input": "2022-07-24T06:57:43.108829Z",
     "iopub.status.busy": "2022-07-24T06:57:43.108379Z",
     "iopub.status.idle": "2022-07-24T06:57:43.142365Z",
     "shell.execute_reply": "2022-07-24T06:57:43.141189Z"
    },
    "papermill": {
     "duration": 0.061609,
     "end_time": "2022-07-24T06:57:43.145080",
     "exception": false,
     "start_time": "2022-07-24T06:57:43.083471",
     "status": "completed"
    },
    "tags": []
   },
   "outputs": [],
   "source": [
    "traindf5=traindf4.drop(['Date'],axis=1)"
   ]
  },
  {
   "cell_type": "code",
   "execution_count": null,
   "id": "391ace8b",
   "metadata": {
    "execution": {
     "iopub.execute_input": "2022-07-24T06:57:43.193563Z",
     "iopub.status.busy": "2022-07-24T06:57:43.193096Z",
     "iopub.status.idle": "2022-07-24T06:57:43.595204Z",
     "shell.execute_reply": "2022-07-24T06:57:43.594272Z"
    },
    "papermill": {
     "duration": 0.429653,
     "end_time": "2022-07-24T06:57:43.597694",
     "exception": false,
     "start_time": "2022-07-24T06:57:43.168041",
     "status": "completed"
    },
    "tags": []
   },
   "outputs": [],
   "source": [
    "month_wise_sales = pd.pivot_table(traindf5, values = \"Weekly_Sales\", columns = \"year\", index = \"month\")\n",
    "month_wise_sales.plot()"
   ]
  },
  {
   "cell_type": "markdown",
   "id": "81b786c6",
   "metadata": {
    "papermill": {
     "duration": 0.024859,
     "end_time": "2022-07-24T06:57:43.647679",
     "exception": false,
     "start_time": "2022-07-24T06:57:43.622820",
     "status": "completed"
    },
    "tags": []
   },
   "source": [
    "**Label encoding for Holiday column and Type**"
   ]
  },
  {
   "cell_type": "code",
   "execution_count": null,
   "id": "30b0c6a9",
   "metadata": {
    "execution": {
     "iopub.execute_input": "2022-07-24T06:57:43.700091Z",
     "iopub.status.busy": "2022-07-24T06:57:43.698853Z",
     "iopub.status.idle": "2022-07-24T06:57:44.168803Z",
     "shell.execute_reply": "2022-07-24T06:57:44.167286Z"
    },
    "papermill": {
     "duration": 0.499863,
     "end_time": "2022-07-24T06:57:44.171924",
     "exception": false,
     "start_time": "2022-07-24T06:57:43.672061",
     "status": "completed"
    },
    "tags": []
   },
   "outputs": [],
   "source": [
    "# Import label encoder\n",
    "from sklearn import preprocessing\n",
    "\n",
    "# label_encoder object knows how to understand word labels.\n",
    "label_encoder = preprocessing.LabelEncoder()\n",
    "\n",
    "# Encode labels in column 'species'.\n",
    "traindf5['IsHoliday']= label_encoder.fit_transform(traindf5['IsHoliday'])\n",
    "traindf5['Type']= label_encoder.fit_transform(traindf5['Type'])\n",
    "\n",
    "traindf5\n"
   ]
  },
  {
   "cell_type": "markdown",
   "id": "8ad7b93e",
   "metadata": {
    "papermill": {
     "duration": 0.025144,
     "end_time": "2022-07-24T06:57:44.222327",
     "exception": false,
     "start_time": "2022-07-24T06:57:44.197183",
     "status": "completed"
    },
    "tags": []
   },
   "source": [
    "**Correlation Map 2**"
   ]
  },
  {
   "cell_type": "code",
   "execution_count": null,
   "id": "5b25e6ec",
   "metadata": {
    "execution": {
     "iopub.execute_input": "2022-07-24T06:57:44.275115Z",
     "iopub.status.busy": "2022-07-24T06:57:44.274719Z",
     "iopub.status.idle": "2022-07-24T06:57:45.858207Z",
     "shell.execute_reply": "2022-07-24T06:57:45.857052Z"
    },
    "papermill": {
     "duration": 1.614322,
     "end_time": "2022-07-24T06:57:45.862099",
     "exception": false,
     "start_time": "2022-07-24T06:57:44.247777",
     "status": "completed"
    },
    "tags": []
   },
   "outputs": [],
   "source": [
    "data = traindf5\n",
    "\n",
    "# prints data that will be plotted\n",
    "# columns shown here are selected by corr() since\n",
    "# they are ideal for the plot\n",
    "print(data.corr())\n",
    "sns.set_theme(style=\"whitegrid\")\n",
    "# plotting correlation heatmap\n",
    "dataplot = sns.heatmap(data.corr(), cmap=\"YlGnBu\", annot=True)\n",
    "sns.set(rc = {'figure.figsize':(25,8)})\n",
    "\n",
    "# displaying heatmap\n",
    "mp.show()\n"
   ]
  },
  {
   "cell_type": "markdown",
   "id": "647d6ec2",
   "metadata": {
    "papermill": {
     "duration": 0.027151,
     "end_time": "2022-07-24T06:57:45.917512",
     "exception": false,
     "start_time": "2022-07-24T06:57:45.890361",
     "status": "completed"
    },
    "tags": []
   },
   "source": [
    "**Feature Importance Test using various techniques**"
   ]
  },
  {
   "cell_type": "code",
   "execution_count": null,
   "id": "c1d3c5b9",
   "metadata": {
    "execution": {
     "iopub.execute_input": "2022-07-24T06:57:45.977575Z",
     "iopub.status.busy": "2022-07-24T06:57:45.977182Z",
     "iopub.status.idle": "2022-07-24T06:57:49.955966Z",
     "shell.execute_reply": "2022-07-24T06:57:49.954684Z"
    },
    "papermill": {
     "duration": 4.013814,
     "end_time": "2022-07-24T06:57:49.958716",
     "exception": false,
     "start_time": "2022-07-24T06:57:45.944902",
     "status": "completed"
    },
    "tags": []
   },
   "outputs": [],
   "source": [
    "from sklearn.inspection import permutation_importance\n",
    "from sklearn.ensemble import RandomForestRegressor\n",
    "import shap"
   ]
  },
  {
   "cell_type": "code",
   "execution_count": null,
   "id": "d49d5199",
   "metadata": {
    "execution": {
     "iopub.execute_input": "2022-07-24T06:57:50.017326Z",
     "iopub.status.busy": "2022-07-24T06:57:50.016293Z",
     "iopub.status.idle": "2022-07-24T06:57:50.048337Z",
     "shell.execute_reply": "2022-07-24T06:57:50.047236Z"
    },
    "papermill": {
     "duration": 0.063977,
     "end_time": "2022-07-24T06:57:50.051000",
     "exception": false,
     "start_time": "2022-07-24T06:57:49.987023",
     "status": "completed"
    },
    "tags": []
   },
   "outputs": [],
   "source": [
    "Features=traindf5.drop(['Weekly_Sales'],axis=1)\n",
    "Target=traindf5['Weekly_Sales']"
   ]
  },
  {
   "cell_type": "code",
   "execution_count": null,
   "id": "78c7d266",
   "metadata": {
    "execution": {
     "iopub.execute_input": "2022-07-24T06:57:50.109511Z",
     "iopub.status.busy": "2022-07-24T06:57:50.108737Z",
     "iopub.status.idle": "2022-07-24T07:02:19.163085Z",
     "shell.execute_reply": "2022-07-24T07:02:19.161707Z"
    },
    "papermill": {
     "duration": 269.113101,
     "end_time": "2022-07-24T07:02:19.192964",
     "exception": false,
     "start_time": "2022-07-24T06:57:50.079863",
     "status": "completed"
    },
    "tags": []
   },
   "outputs": [],
   "source": [
    "rf = RandomForestRegressor(n_estimators=100)\n",
    "rf.fit(Features,Target)"
   ]
  },
  {
   "cell_type": "code",
   "execution_count": null,
   "id": "30dc1a0a",
   "metadata": {
    "execution": {
     "iopub.execute_input": "2022-07-24T07:02:19.249243Z",
     "iopub.status.busy": "2022-07-24T07:02:19.248760Z",
     "iopub.status.idle": "2022-07-24T07:02:19.271148Z",
     "shell.execute_reply": "2022-07-24T07:02:19.270080Z"
    },
    "papermill": {
     "duration": 0.053157,
     "end_time": "2022-07-24T07:02:19.273537",
     "exception": false,
     "start_time": "2022-07-24T07:02:19.220380",
     "status": "completed"
    },
    "tags": []
   },
   "outputs": [],
   "source": [
    "Features"
   ]
  },
  {
   "cell_type": "code",
   "execution_count": null,
   "id": "3aa3fbbf",
   "metadata": {
    "execution": {
     "iopub.execute_input": "2022-07-24T07:02:19.329574Z",
     "iopub.status.busy": "2022-07-24T07:02:19.329165Z",
     "iopub.status.idle": "2022-07-24T07:02:20.278250Z",
     "shell.execute_reply": "2022-07-24T07:02:20.277194Z"
    },
    "papermill": {
     "duration": 0.980221,
     "end_time": "2022-07-24T07:02:20.280803",
     "exception": false,
     "start_time": "2022-07-24T07:02:19.300582",
     "status": "completed"
    },
    "tags": []
   },
   "outputs": [],
   "source": [
    "f = plt.figure()\n",
    "f.set_figwidth(10)\n",
    "f.set_figheight(7)\n",
    "plt.barh(Features.columns, rf.feature_importances_)\n"
   ]
  },
  {
   "cell_type": "code",
   "execution_count": null,
   "id": "f4a344fb",
   "metadata": {
    "execution": {
     "iopub.execute_input": "2022-07-24T07:02:20.340048Z",
     "iopub.status.busy": "2022-07-24T07:02:20.338974Z",
     "iopub.status.idle": "2022-07-24T07:02:20.352567Z",
     "shell.execute_reply": "2022-07-24T07:02:20.351419Z"
    },
    "papermill": {
     "duration": 0.046078,
     "end_time": "2022-07-24T07:02:20.355266",
     "exception": false,
     "start_time": "2022-07-24T07:02:20.309188",
     "status": "completed"
    },
    "tags": []
   },
   "outputs": [],
   "source": [
    "F=Features.drop([\"IsHoliday\",'year'],axis=1)"
   ]
  },
  {
   "cell_type": "code",
   "execution_count": null,
   "id": "0c9d5db9",
   "metadata": {
    "execution": {
     "iopub.execute_input": "2022-07-24T07:02:20.412031Z",
     "iopub.status.busy": "2022-07-24T07:02:20.411652Z",
     "iopub.status.idle": "2022-07-24T07:02:20.433452Z",
     "shell.execute_reply": "2022-07-24T07:02:20.432254Z"
    },
    "papermill": {
     "duration": 0.053022,
     "end_time": "2022-07-24T07:02:20.435831",
     "exception": false,
     "start_time": "2022-07-24T07:02:20.382809",
     "status": "completed"
    },
    "tags": []
   },
   "outputs": [],
   "source": [
    "F"
   ]
  },
  {
   "cell_type": "code",
   "execution_count": null,
   "id": "9f2b574a",
   "metadata": {
    "execution": {
     "iopub.execute_input": "2022-07-24T07:02:20.495365Z",
     "iopub.status.busy": "2022-07-24T07:02:20.494294Z",
     "iopub.status.idle": "2022-07-24T07:02:20.574895Z",
     "shell.execute_reply": "2022-07-24T07:02:20.573716Z"
    },
    "papermill": {
     "duration": 0.113454,
     "end_time": "2022-07-24T07:02:20.577686",
     "exception": false,
     "start_time": "2022-07-24T07:02:20.464232",
     "status": "completed"
    },
    "tags": []
   },
   "outputs": [],
   "source": [
    "from sklearn.model_selection import train_test_split  \n",
    "x_train, x_test, y_train, y_test= train_test_split(F, Target, test_size= 0.25, random_state=0)"
   ]
  },
  {
   "cell_type": "code",
   "execution_count": null,
   "id": "9af64766",
   "metadata": {
    "papermill": {
     "duration": 0.02751,
     "end_time": "2022-07-24T07:02:20.633257",
     "exception": false,
     "start_time": "2022-07-24T07:02:20.605747",
     "status": "completed"
    },
    "tags": []
   },
   "outputs": [],
   "source": []
  },
  {
   "cell_type": "code",
   "execution_count": null,
   "id": "bd6e0582",
   "metadata": {
    "execution": {
     "iopub.execute_input": "2022-07-24T07:02:20.690824Z",
     "iopub.status.busy": "2022-07-24T07:02:20.690415Z",
     "iopub.status.idle": "2022-07-24T07:02:20.696062Z",
     "shell.execute_reply": "2022-07-24T07:02:20.694905Z"
    },
    "papermill": {
     "duration": 0.037025,
     "end_time": "2022-07-24T07:02:20.698276",
     "exception": false,
     "start_time": "2022-07-24T07:02:20.661251",
     "status": "completed"
    },
    "tags": []
   },
   "outputs": [],
   "source": [
    "from sklearn.ensemble import RandomForestRegressor\n",
    "from sklearn.tree import DecisionTreeRegressor\n",
    "from sklearn.metrics import r2_score,mean_squared_error\n",
    "from math import sqrt"
   ]
  },
  {
   "cell_type": "code",
   "execution_count": null,
   "id": "d376be6e",
   "metadata": {
    "execution": {
     "iopub.execute_input": "2022-07-24T07:02:20.757208Z",
     "iopub.status.busy": "2022-07-24T07:02:20.756836Z",
     "iopub.status.idle": "2022-07-24T07:02:21.241171Z",
     "shell.execute_reply": "2022-07-24T07:02:21.239774Z"
    },
    "papermill": {
     "duration": 0.516813,
     "end_time": "2022-07-24T07:02:21.244044",
     "exception": false,
     "start_time": "2022-07-24T07:02:20.727231",
     "status": "completed"
    },
    "tags": []
   },
   "outputs": [],
   "source": [
    "DTRmodel = DecisionTreeRegressor(max_depth=3,random_state=0)\n",
    "DTRmodel.fit(x_train,y_train)\n",
    "y_pred = DTRmodel.predict(x_test)"
   ]
  },
  {
   "cell_type": "code",
   "execution_count": null,
   "id": "58117ac6",
   "metadata": {
    "execution": {
     "iopub.execute_input": "2022-07-24T07:02:21.304068Z",
     "iopub.status.busy": "2022-07-24T07:02:21.303690Z",
     "iopub.status.idle": "2022-07-24T07:02:21.314790Z",
     "shell.execute_reply": "2022-07-24T07:02:21.313349Z"
    },
    "papermill": {
     "duration": 0.04425,
     "end_time": "2022-07-24T07:02:21.318181",
     "exception": false,
     "start_time": "2022-07-24T07:02:21.273931",
     "status": "completed"
    },
    "tags": []
   },
   "outputs": [],
   "source": [
    "print(\"R2 score  :\",r2_score(y_test, y_pred))\n",
    "print(\"MSE score  :\",mean_squared_error(y_test, y_pred))\n",
    "print(\"RMSE: \",sqrt(mean_squared_error(y_test, y_pred)))"
   ]
  },
  {
   "cell_type": "code",
   "execution_count": null,
   "id": "c0e7b752",
   "metadata": {
    "execution": {
     "iopub.execute_input": "2022-07-24T07:02:21.377114Z",
     "iopub.status.busy": "2022-07-24T07:02:21.376720Z",
     "iopub.status.idle": "2022-07-24T07:02:32.559604Z",
     "shell.execute_reply": "2022-07-24T07:02:32.558519Z"
    },
    "papermill": {
     "duration": 11.215508,
     "end_time": "2022-07-24T07:02:32.562441",
     "exception": false,
     "start_time": "2022-07-24T07:02:21.346933",
     "status": "completed"
    },
    "tags": []
   },
   "outputs": [],
   "source": [
    "rf1 = RandomForestRegressor(n_estimators=50, random_state=42, n_jobs=-1, max_depth=35,\n",
    "                           max_features = 'sqrt',min_samples_split = 10)\n",
    "rf1.fit(x_train,y_train)\n",
    "y_pred1 = rf1.predict(x_test)"
   ]
  },
  {
   "cell_type": "code",
   "execution_count": null,
   "id": "886c4d02",
   "metadata": {
    "execution": {
     "iopub.execute_input": "2022-07-24T07:02:32.622200Z",
     "iopub.status.busy": "2022-07-24T07:02:32.621836Z",
     "iopub.status.idle": "2022-07-24T07:02:32.632672Z",
     "shell.execute_reply": "2022-07-24T07:02:32.630770Z"
    },
    "papermill": {
     "duration": 0.044189,
     "end_time": "2022-07-24T07:02:32.635325",
     "exception": false,
     "start_time": "2022-07-24T07:02:32.591136",
     "status": "completed"
    },
    "tags": []
   },
   "outputs": [],
   "source": [
    "print(\"R2 score  :\",r2_score(y_test, y_pred))\n",
    "print(\"MSE score  :\",mean_squared_error(y_test, y_pred1))\n",
    "print(\"RMSE: \",sqrt(mean_squared_error(y_test, y_pred1)))"
   ]
  },
  {
   "cell_type": "code",
   "execution_count": null,
   "id": "6bf3c612",
   "metadata": {
    "execution": {
     "iopub.execute_input": "2022-07-24T07:02:32.693836Z",
     "iopub.status.busy": "2022-07-24T07:02:32.693094Z",
     "iopub.status.idle": "2022-07-24T07:02:52.415144Z",
     "shell.execute_reply": "2022-07-24T07:02:52.414008Z"
    },
    "papermill": {
     "duration": 19.754629,
     "end_time": "2022-07-24T07:02:52.417734",
     "exception": false,
     "start_time": "2022-07-24T07:02:32.663105",
     "status": "completed"
    },
    "tags": []
   },
   "outputs": [],
   "source": [
    "from xgboost import XGBRegressor\n",
    "model = XGBRegressor()\n",
    "model.fit(x_train,y_train)"
   ]
  },
  {
   "cell_type": "code",
   "execution_count": null,
   "id": "0ee108d4",
   "metadata": {
    "execution": {
     "iopub.execute_input": "2022-07-24T07:02:52.477726Z",
     "iopub.status.busy": "2022-07-24T07:02:52.477003Z",
     "iopub.status.idle": "2022-07-24T07:02:52.629344Z",
     "shell.execute_reply": "2022-07-24T07:02:52.628311Z"
    },
    "papermill": {
     "duration": 0.185348,
     "end_time": "2022-07-24T07:02:52.632063",
     "exception": false,
     "start_time": "2022-07-24T07:02:52.446715",
     "status": "completed"
    },
    "tags": []
   },
   "outputs": [],
   "source": [
    "y_pred2 = model.predict(x_test)"
   ]
  },
  {
   "cell_type": "code",
   "execution_count": null,
   "id": "26259ac5",
   "metadata": {
    "execution": {
     "iopub.execute_input": "2022-07-24T07:02:52.691191Z",
     "iopub.status.busy": "2022-07-24T07:02:52.690509Z",
     "iopub.status.idle": "2022-07-24T07:02:52.702477Z",
     "shell.execute_reply": "2022-07-24T07:02:52.700776Z"
    },
    "papermill": {
     "duration": 0.044092,
     "end_time": "2022-07-24T07:02:52.705007",
     "exception": false,
     "start_time": "2022-07-24T07:02:52.660915",
     "status": "completed"
    },
    "tags": []
   },
   "outputs": [],
   "source": [
    "print(\"R2 score  :\",r2_score(y_test, y_pred2))\n",
    "print(\"MSE score  :\",mean_squared_error(y_test, y_pred2))\n",
    "print(\"RMSE: \",sqrt(mean_squared_error(y_test, y_pred2)))"
   ]
  },
  {
   "cell_type": "code",
   "execution_count": null,
   "id": "8b412c49",
   "metadata": {
    "execution": {
     "iopub.execute_input": "2022-07-24T07:02:52.766382Z",
     "iopub.status.busy": "2022-07-24T07:02:52.765538Z",
     "iopub.status.idle": "2022-07-24T07:02:52.773911Z",
     "shell.execute_reply": "2022-07-24T07:02:52.772449Z"
    },
    "papermill": {
     "duration": 0.043134,
     "end_time": "2022-07-24T07:02:52.776686",
     "exception": false,
     "start_time": "2022-07-24T07:02:52.733552",
     "status": "completed"
    },
    "tags": []
   },
   "outputs": [],
   "source": [
    "y_pred2"
   ]
  },
  {
   "cell_type": "code",
   "execution_count": null,
   "id": "dba66d30",
   "metadata": {
    "execution": {
     "iopub.execute_input": "2022-07-24T07:02:52.838379Z",
     "iopub.status.busy": "2022-07-24T07:02:52.837946Z",
     "iopub.status.idle": "2022-07-24T07:02:52.893880Z",
     "shell.execute_reply": "2022-07-24T07:02:52.892514Z"
    },
    "papermill": {
     "duration": 0.090756,
     "end_time": "2022-07-24T07:02:52.897316",
     "exception": false,
     "start_time": "2022-07-24T07:02:52.806560",
     "status": "completed"
    },
    "tags": []
   },
   "outputs": [],
   "source": [
    "#Regularization\n",
    "from sklearn.linear_model import Ridge\n",
    "rr_model = Ridge(alpha=0.5)\n",
    "rr_model.fit(x_train,y_train)"
   ]
  },
  {
   "cell_type": "code",
   "execution_count": null,
   "id": "49e88742",
   "metadata": {
    "execution": {
     "iopub.execute_input": "2022-07-24T07:02:53.006697Z",
     "iopub.status.busy": "2022-07-24T07:02:53.005461Z",
     "iopub.status.idle": "2022-07-24T07:02:53.155953Z",
     "shell.execute_reply": "2022-07-24T07:02:53.154881Z"
    },
    "papermill": {
     "duration": 0.205925,
     "end_time": "2022-07-24T07:02:53.158598",
     "exception": false,
     "start_time": "2022-07-24T07:02:52.952673",
     "status": "completed"
    },
    "tags": []
   },
   "outputs": [],
   "source": [
    "y_pred3 = model.predict(x_test)"
   ]
  },
  {
   "cell_type": "code",
   "execution_count": null,
   "id": "a4e3e91c",
   "metadata": {
    "execution": {
     "iopub.execute_input": "2022-07-24T07:02:53.218362Z",
     "iopub.status.busy": "2022-07-24T07:02:53.217656Z",
     "iopub.status.idle": "2022-07-24T07:02:53.224119Z",
     "shell.execute_reply": "2022-07-24T07:02:53.223128Z"
    },
    "papermill": {
     "duration": 0.038746,
     "end_time": "2022-07-24T07:02:53.226309",
     "exception": false,
     "start_time": "2022-07-24T07:02:53.187563",
     "status": "completed"
    },
    "tags": []
   },
   "outputs": [],
   "source": [
    "y_pred3"
   ]
  },
  {
   "cell_type": "code",
   "execution_count": null,
   "id": "f5ce6520",
   "metadata": {
    "execution": {
     "iopub.execute_input": "2022-07-24T07:02:53.286083Z",
     "iopub.status.busy": "2022-07-24T07:02:53.285017Z",
     "iopub.status.idle": "2022-07-24T07:02:53.296138Z",
     "shell.execute_reply": "2022-07-24T07:02:53.294954Z"
    },
    "papermill": {
     "duration": 0.043671,
     "end_time": "2022-07-24T07:02:53.298760",
     "exception": false,
     "start_time": "2022-07-24T07:02:53.255089",
     "status": "completed"
    },
    "tags": []
   },
   "outputs": [],
   "source": [
    "print(\"R2 score  :\",r2_score(y_test, y_pred3))\n",
    "print(\"MSE score  :\",mean_squared_error(y_test, y_pred3))\n",
    "print(\"RMSE: \",sqrt(mean_squared_error(y_test, y_pred3)))"
   ]
  },
  {
   "cell_type": "code",
   "execution_count": null,
   "id": "13700cc2",
   "metadata": {
    "execution": {
     "iopub.execute_input": "2022-07-24T07:02:53.360871Z",
     "iopub.status.busy": "2022-07-24T07:02:53.359941Z",
     "iopub.status.idle": "2022-07-24T07:02:53.370588Z",
     "shell.execute_reply": "2022-07-24T07:02:53.369408Z"
    },
    "papermill": {
     "duration": 0.044393,
     "end_time": "2022-07-24T07:02:53.373187",
     "exception": false,
     "start_time": "2022-07-24T07:02:53.328794",
     "status": "completed"
    },
    "tags": []
   },
   "outputs": [],
   "source": [
    "y_test"
   ]
  },
  {
   "cell_type": "code",
   "execution_count": null,
   "id": "5f213279",
   "metadata": {
    "papermill": {
     "duration": 0.028965,
     "end_time": "2022-07-24T07:02:53.432359",
     "exception": false,
     "start_time": "2022-07-24T07:02:53.403394",
     "status": "completed"
    },
    "tags": []
   },
   "outputs": [],
   "source": []
  },
  {
   "cell_type": "code",
   "execution_count": null,
   "id": "71510d8f",
   "metadata": {
    "papermill": {
     "duration": 0.028825,
     "end_time": "2022-07-24T07:02:53.490740",
     "exception": false,
     "start_time": "2022-07-24T07:02:53.461915",
     "status": "completed"
    },
    "tags": []
   },
   "outputs": [],
   "source": []
  }
 ],
 "metadata": {
  "kernelspec": {
   "display_name": "Python 3 (ipykernel)",
   "language": "python",
   "name": "python3"
  },
  "language_info": {
   "codemirror_mode": {
    "name": "ipython",
    "version": 3
   },
   "file_extension": ".py",
   "mimetype": "text/x-python",
   "name": "python",
   "nbconvert_exporter": "python",
   "pygments_lexer": "ipython3",
   "version": "3.10.5"
  },
  "papermill": {
   "default_parameters": {},
   "duration": 354.709588,
   "end_time": "2022-07-24T07:02:54.846214",
   "environment_variables": {},
   "exception": null,
   "input_path": "__notebook__.ipynb",
   "output_path": "__notebook__.ipynb",
   "parameters": {},
   "start_time": "2022-07-24T06:57:00.136626",
   "version": "2.3.4"
  }
 },
 "nbformat": 4,
 "nbformat_minor": 5
}
